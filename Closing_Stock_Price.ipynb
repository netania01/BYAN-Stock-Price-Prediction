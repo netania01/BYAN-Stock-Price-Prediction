{
  "nbformat": 4,
  "nbformat_minor": 0,
  "metadata": {
    "colab": {
      "provenance": []
    },
    "kernelspec": {
      "name": "python3",
      "display_name": "Python 3"
    },
    "language_info": {
      "name": "python"
    }
  },
  "cells": [
    {
      "cell_type": "code",
      "execution_count": 18,
      "metadata": {
        "id": "qyG7OM9-t0AS"
      },
      "outputs": [],
      "source": [
        "#Import Libraries\n",
        "import pandas as pd\n",
        "import numpy as np\n",
        "import matplotlib.pyplot as plt\n",
        "import seaborn as sns\n",
        "import warnings\n",
        "import datetime as dt\n",
        "import matplotlib.dates as mdates\n",
        "import math\n",
        "import matplotlib.dates as mdates\n",
        "from sklearn.metrics import mean_squared_error, mean_absolute_error # Add mean_absolute_error here\n",
        "from sklearn.preprocessing import MinMaxScaler\n",
        "from tensorflow.keras.models import Sequential\n",
        "from tensorflow.keras.layers import Dense, LSTM, Dropout\n",
        "\n",
        "warnings.filterwarnings('ignore')\n",
        "\n",
        "# Set style seaborn\n",
        "sns.set_style(\"whitegrid\")"
      ]
    },
    {
      "cell_type": "code",
      "source": [
        "#Import Dataset\n",
        "data = pd.read_csv('Stock_Dataset')\n",
        "data.head()"
      ],
      "metadata": {
        "colab": {
          "base_uri": "https://localhost:8080/",
          "height": 206
        },
        "id": "zw5NcTGVh8vH",
        "outputId": "1f17e1fb-26e4-4725-b77d-c81878023c1b"
      },
      "execution_count": 19,
      "outputs": [
        {
          "output_type": "execute_result",
          "data": {
            "text/plain": [
              "         Date  Last Price  Opening Price  High Price  Low Price    Volume  \\\n",
              "0  2020-01-03       15.55          15.55       15.55      15.55   10000.0   \n",
              "1  2020-01-07       15.55          15.55       15.55      15.55  100000.0   \n",
              "2  2020-01-08       15.55          15.55       15.55      15.55   20000.0   \n",
              "3  2020-01-09       15.55          15.55       15.55      15.55   10000.0   \n",
              "4  2020-01-10       15.75          15.55       15.75      15.55  120000.0   \n",
              "\n",
              "   Change (%)  \n",
              "0       -2.20  \n",
              "1        0.00  \n",
              "2        0.00  \n",
              "3        0.00  \n",
              "4        1.29  "
            ],
            "text/html": [
              "\n",
              "  <div id=\"df-a3ac32aa-d682-4475-b5cc-e83356773267\" class=\"colab-df-container\">\n",
              "    <div>\n",
              "<style scoped>\n",
              "    .dataframe tbody tr th:only-of-type {\n",
              "        vertical-align: middle;\n",
              "    }\n",
              "\n",
              "    .dataframe tbody tr th {\n",
              "        vertical-align: top;\n",
              "    }\n",
              "\n",
              "    .dataframe thead th {\n",
              "        text-align: right;\n",
              "    }\n",
              "</style>\n",
              "<table border=\"1\" class=\"dataframe\">\n",
              "  <thead>\n",
              "    <tr style=\"text-align: right;\">\n",
              "      <th></th>\n",
              "      <th>Date</th>\n",
              "      <th>Last Price</th>\n",
              "      <th>Opening Price</th>\n",
              "      <th>High Price</th>\n",
              "      <th>Low Price</th>\n",
              "      <th>Volume</th>\n",
              "      <th>Change (%)</th>\n",
              "    </tr>\n",
              "  </thead>\n",
              "  <tbody>\n",
              "    <tr>\n",
              "      <th>0</th>\n",
              "      <td>2020-01-03</td>\n",
              "      <td>15.55</td>\n",
              "      <td>15.55</td>\n",
              "      <td>15.55</td>\n",
              "      <td>15.55</td>\n",
              "      <td>10000.0</td>\n",
              "      <td>-2.20</td>\n",
              "    </tr>\n",
              "    <tr>\n",
              "      <th>1</th>\n",
              "      <td>2020-01-07</td>\n",
              "      <td>15.55</td>\n",
              "      <td>15.55</td>\n",
              "      <td>15.55</td>\n",
              "      <td>15.55</td>\n",
              "      <td>100000.0</td>\n",
              "      <td>0.00</td>\n",
              "    </tr>\n",
              "    <tr>\n",
              "      <th>2</th>\n",
              "      <td>2020-01-08</td>\n",
              "      <td>15.55</td>\n",
              "      <td>15.55</td>\n",
              "      <td>15.55</td>\n",
              "      <td>15.55</td>\n",
              "      <td>20000.0</td>\n",
              "      <td>0.00</td>\n",
              "    </tr>\n",
              "    <tr>\n",
              "      <th>3</th>\n",
              "      <td>2020-01-09</td>\n",
              "      <td>15.55</td>\n",
              "      <td>15.55</td>\n",
              "      <td>15.55</td>\n",
              "      <td>15.55</td>\n",
              "      <td>10000.0</td>\n",
              "      <td>0.00</td>\n",
              "    </tr>\n",
              "    <tr>\n",
              "      <th>4</th>\n",
              "      <td>2020-01-10</td>\n",
              "      <td>15.75</td>\n",
              "      <td>15.55</td>\n",
              "      <td>15.75</td>\n",
              "      <td>15.55</td>\n",
              "      <td>120000.0</td>\n",
              "      <td>1.29</td>\n",
              "    </tr>\n",
              "  </tbody>\n",
              "</table>\n",
              "</div>\n",
              "    <div class=\"colab-df-buttons\">\n",
              "\n",
              "  <div class=\"colab-df-container\">\n",
              "    <button class=\"colab-df-convert\" onclick=\"convertToInteractive('df-a3ac32aa-d682-4475-b5cc-e83356773267')\"\n",
              "            title=\"Convert this dataframe to an interactive table.\"\n",
              "            style=\"display:none;\">\n",
              "\n",
              "  <svg xmlns=\"http://www.w3.org/2000/svg\" height=\"24px\" viewBox=\"0 -960 960 960\">\n",
              "    <path d=\"M120-120v-720h720v720H120Zm60-500h600v-160H180v160Zm220 220h160v-160H400v160Zm0 220h160v-160H400v160ZM180-400h160v-160H180v160Zm440 0h160v-160H620v160ZM180-180h160v-160H180v160Zm440 0h160v-160H620v160Z\"/>\n",
              "  </svg>\n",
              "    </button>\n",
              "\n",
              "  <style>\n",
              "    .colab-df-container {\n",
              "      display:flex;\n",
              "      gap: 12px;\n",
              "    }\n",
              "\n",
              "    .colab-df-convert {\n",
              "      background-color: #E8F0FE;\n",
              "      border: none;\n",
              "      border-radius: 50%;\n",
              "      cursor: pointer;\n",
              "      display: none;\n",
              "      fill: #1967D2;\n",
              "      height: 32px;\n",
              "      padding: 0 0 0 0;\n",
              "      width: 32px;\n",
              "    }\n",
              "\n",
              "    .colab-df-convert:hover {\n",
              "      background-color: #E2EBFA;\n",
              "      box-shadow: 0px 1px 2px rgba(60, 64, 67, 0.3), 0px 1px 3px 1px rgba(60, 64, 67, 0.15);\n",
              "      fill: #174EA6;\n",
              "    }\n",
              "\n",
              "    .colab-df-buttons div {\n",
              "      margin-bottom: 4px;\n",
              "    }\n",
              "\n",
              "    [theme=dark] .colab-df-convert {\n",
              "      background-color: #3B4455;\n",
              "      fill: #D2E3FC;\n",
              "    }\n",
              "\n",
              "    [theme=dark] .colab-df-convert:hover {\n",
              "      background-color: #434B5C;\n",
              "      box-shadow: 0px 1px 3px 1px rgba(0, 0, 0, 0.15);\n",
              "      filter: drop-shadow(0px 1px 2px rgba(0, 0, 0, 0.3));\n",
              "      fill: #FFFFFF;\n",
              "    }\n",
              "  </style>\n",
              "\n",
              "    <script>\n",
              "      const buttonEl =\n",
              "        document.querySelector('#df-a3ac32aa-d682-4475-b5cc-e83356773267 button.colab-df-convert');\n",
              "      buttonEl.style.display =\n",
              "        google.colab.kernel.accessAllowed ? 'block' : 'none';\n",
              "\n",
              "      async function convertToInteractive(key) {\n",
              "        const element = document.querySelector('#df-a3ac32aa-d682-4475-b5cc-e83356773267');\n",
              "        const dataTable =\n",
              "          await google.colab.kernel.invokeFunction('convertToInteractive',\n",
              "                                                    [key], {});\n",
              "        if (!dataTable) return;\n",
              "\n",
              "        const docLinkHtml = 'Like what you see? Visit the ' +\n",
              "          '<a target=\"_blank\" href=https://colab.research.google.com/notebooks/data_table.ipynb>data table notebook</a>'\n",
              "          + ' to learn more about interactive tables.';\n",
              "        element.innerHTML = '';\n",
              "        dataTable['output_type'] = 'display_data';\n",
              "        await google.colab.output.renderOutput(dataTable, element);\n",
              "        const docLink = document.createElement('div');\n",
              "        docLink.innerHTML = docLinkHtml;\n",
              "        element.appendChild(docLink);\n",
              "      }\n",
              "    </script>\n",
              "  </div>\n",
              "\n",
              "\n",
              "<div id=\"df-c654abf4-c97e-4b88-9453-63bcf9de6693\">\n",
              "  <button class=\"colab-df-quickchart\" onclick=\"quickchart('df-c654abf4-c97e-4b88-9453-63bcf9de6693')\"\n",
              "            title=\"Suggest charts\"\n",
              "            style=\"display:none;\">\n",
              "\n",
              "<svg xmlns=\"http://www.w3.org/2000/svg\" height=\"24px\"viewBox=\"0 0 24 24\"\n",
              "     width=\"24px\">\n",
              "    <g>\n",
              "        <path d=\"M19 3H5c-1.1 0-2 .9-2 2v14c0 1.1.9 2 2 2h14c1.1 0 2-.9 2-2V5c0-1.1-.9-2-2-2zM9 17H7v-7h2v7zm4 0h-2V7h2v10zm4 0h-2v-4h2v4z\"/>\n",
              "    </g>\n",
              "</svg>\n",
              "  </button>\n",
              "\n",
              "<style>\n",
              "  .colab-df-quickchart {\n",
              "      --bg-color: #E8F0FE;\n",
              "      --fill-color: #1967D2;\n",
              "      --hover-bg-color: #E2EBFA;\n",
              "      --hover-fill-color: #174EA6;\n",
              "      --disabled-fill-color: #AAA;\n",
              "      --disabled-bg-color: #DDD;\n",
              "  }\n",
              "\n",
              "  [theme=dark] .colab-df-quickchart {\n",
              "      --bg-color: #3B4455;\n",
              "      --fill-color: #D2E3FC;\n",
              "      --hover-bg-color: #434B5C;\n",
              "      --hover-fill-color: #FFFFFF;\n",
              "      --disabled-bg-color: #3B4455;\n",
              "      --disabled-fill-color: #666;\n",
              "  }\n",
              "\n",
              "  .colab-df-quickchart {\n",
              "    background-color: var(--bg-color);\n",
              "    border: none;\n",
              "    border-radius: 50%;\n",
              "    cursor: pointer;\n",
              "    display: none;\n",
              "    fill: var(--fill-color);\n",
              "    height: 32px;\n",
              "    padding: 0;\n",
              "    width: 32px;\n",
              "  }\n",
              "\n",
              "  .colab-df-quickchart:hover {\n",
              "    background-color: var(--hover-bg-color);\n",
              "    box-shadow: 0 1px 2px rgba(60, 64, 67, 0.3), 0 1px 3px 1px rgba(60, 64, 67, 0.15);\n",
              "    fill: var(--button-hover-fill-color);\n",
              "  }\n",
              "\n",
              "  .colab-df-quickchart-complete:disabled,\n",
              "  .colab-df-quickchart-complete:disabled:hover {\n",
              "    background-color: var(--disabled-bg-color);\n",
              "    fill: var(--disabled-fill-color);\n",
              "    box-shadow: none;\n",
              "  }\n",
              "\n",
              "  .colab-df-spinner {\n",
              "    border: 2px solid var(--fill-color);\n",
              "    border-color: transparent;\n",
              "    border-bottom-color: var(--fill-color);\n",
              "    animation:\n",
              "      spin 1s steps(1) infinite;\n",
              "  }\n",
              "\n",
              "  @keyframes spin {\n",
              "    0% {\n",
              "      border-color: transparent;\n",
              "      border-bottom-color: var(--fill-color);\n",
              "      border-left-color: var(--fill-color);\n",
              "    }\n",
              "    20% {\n",
              "      border-color: transparent;\n",
              "      border-left-color: var(--fill-color);\n",
              "      border-top-color: var(--fill-color);\n",
              "    }\n",
              "    30% {\n",
              "      border-color: transparent;\n",
              "      border-left-color: var(--fill-color);\n",
              "      border-top-color: var(--fill-color);\n",
              "      border-right-color: var(--fill-color);\n",
              "    }\n",
              "    40% {\n",
              "      border-color: transparent;\n",
              "      border-right-color: var(--fill-color);\n",
              "      border-top-color: var(--fill-color);\n",
              "    }\n",
              "    60% {\n",
              "      border-color: transparent;\n",
              "      border-right-color: var(--fill-color);\n",
              "    }\n",
              "    80% {\n",
              "      border-color: transparent;\n",
              "      border-right-color: var(--fill-color);\n",
              "      border-bottom-color: var(--fill-color);\n",
              "    }\n",
              "    90% {\n",
              "      border-color: transparent;\n",
              "      border-bottom-color: var(--fill-color);\n",
              "    }\n",
              "  }\n",
              "</style>\n",
              "\n",
              "  <script>\n",
              "    async function quickchart(key) {\n",
              "      const quickchartButtonEl =\n",
              "        document.querySelector('#' + key + ' button');\n",
              "      quickchartButtonEl.disabled = true;  // To prevent multiple clicks.\n",
              "      quickchartButtonEl.classList.add('colab-df-spinner');\n",
              "      try {\n",
              "        const charts = await google.colab.kernel.invokeFunction(\n",
              "            'suggestCharts', [key], {});\n",
              "      } catch (error) {\n",
              "        console.error('Error during call to suggestCharts:', error);\n",
              "      }\n",
              "      quickchartButtonEl.classList.remove('colab-df-spinner');\n",
              "      quickchartButtonEl.classList.add('colab-df-quickchart-complete');\n",
              "    }\n",
              "    (() => {\n",
              "      let quickchartButtonEl =\n",
              "        document.querySelector('#df-c654abf4-c97e-4b88-9453-63bcf9de6693 button');\n",
              "      quickchartButtonEl.style.display =\n",
              "        google.colab.kernel.accessAllowed ? 'block' : 'none';\n",
              "    })();\n",
              "  </script>\n",
              "</div>\n",
              "\n",
              "    </div>\n",
              "  </div>\n"
            ],
            "application/vnd.google.colaboratory.intrinsic+json": {
              "type": "dataframe",
              "variable_name": "data",
              "summary": "{\n  \"name\": \"data\",\n  \"rows\": 1081,\n  \"fields\": [\n    {\n      \"column\": \"Date\",\n      \"properties\": {\n        \"dtype\": \"object\",\n        \"num_unique_values\": 1081,\n        \"samples\": [\n          \"2022-04-06\",\n          \"2022-10-13\",\n          \"2023-07-20\"\n        ],\n        \"semantic_type\": \"\",\n        \"description\": \"\"\n      }\n    },\n    {\n      \"column\": \"Last Price\",\n      \"properties\": {\n        \"dtype\": \"number\",\n        \"std\": 6.9006273855454525,\n        \"min\": 1.203,\n        \"max\": 23.4,\n        \"num_unique_values\": 522,\n        \"samples\": [\n          18.725,\n          17.375,\n          13.45\n        ],\n        \"semantic_type\": \"\",\n        \"description\": \"\"\n      }\n    },\n    {\n      \"column\": \"Opening Price\",\n      \"properties\": {\n        \"dtype\": \"number\",\n        \"std\": 6.900886381203565,\n        \"min\": 1.203,\n        \"max\": 23.55,\n        \"num_unique_values\": 525,\n        \"samples\": [\n          6.62,\n          18.75,\n          15.0\n        ],\n        \"semantic_type\": \"\",\n        \"description\": \"\"\n      }\n    },\n    {\n      \"column\": \"High Price\",\n      \"properties\": {\n        \"dtype\": \"number\",\n        \"std\": 6.977617063656498,\n        \"min\": 1.228,\n        \"max\": 24.8,\n        \"num_unique_values\": 502,\n        \"samples\": [\n          6.89,\n          1.43,\n          6.66\n        ],\n        \"semantic_type\": \"\",\n        \"description\": \"\"\n      }\n    },\n    {\n      \"column\": \"Low Price\",\n      \"properties\": {\n        \"dtype\": \"number\",\n        \"std\": 6.791761262053099,\n        \"min\": 1.2,\n        \"max\": 21.775,\n        \"num_unique_values\": 524,\n        \"samples\": [\n          6.523,\n          18.7,\n          14.5\n        ],\n        \"semantic_type\": \"\",\n        \"description\": \"\"\n      }\n    },\n    {\n      \"column\": \"Volume\",\n      \"properties\": {\n        \"dtype\": \"number\",\n        \"std\": 24613489.912088554,\n        \"min\": 10000.0,\n        \"max\": 99770000.0,\n        \"num_unique_values\": 778,\n        \"samples\": [\n          4280000.0,\n          4980000.0,\n          9090000.0\n        ],\n        \"semantic_type\": \"\",\n        \"description\": \"\"\n      }\n    },\n    {\n      \"column\": \"Change (%)\",\n      \"properties\": {\n        \"dtype\": \"number\",\n        \"std\": 3.9378213708292216,\n        \"min\": -89.98,\n        \"max\": 19.87,\n        \"num_unique_values\": 503,\n        \"samples\": [\n          7.19,\n          3.39,\n          -6.99\n        ],\n        \"semantic_type\": \"\",\n        \"description\": \"\"\n      }\n    }\n  ]\n}"
            }
          },
          "metadata": {},
          "execution_count": 19
        }
      ]
    },
    {
      "cell_type": "code",
      "source": [
        "#Check Number of row and missing values\n",
        "print('Number of rows and columns', data.shape)\n",
        "print('Number of missing values', data.isnull().sum())"
      ],
      "metadata": {
        "colab": {
          "base_uri": "https://localhost:8080/"
        },
        "id": "snuzEjf8iMBT",
        "outputId": "3cdcf426-37e1-4036-e1a3-9df222d63900"
      },
      "execution_count": 20,
      "outputs": [
        {
          "output_type": "stream",
          "name": "stdout",
          "text": [
            "Number of rows and columns (1081, 7)\n",
            "Number of missing values Date               0\n",
            "Last Price         0\n",
            "Opening Price      0\n",
            "High Price         0\n",
            "Low Price          0\n",
            "Volume           102\n",
            "Change (%)         0\n",
            "dtype: int64\n"
          ]
        }
      ]
    },
    {
      "cell_type": "code",
      "source": [
        "#Fixing the missing values\n",
        "data.fillna(0, inplace=True)\n",
        "data.isnull().sum()"
      ],
      "metadata": {
        "colab": {
          "base_uri": "https://localhost:8080/",
          "height": 303
        },
        "id": "SiAwAQTniWs3",
        "outputId": "88f0ccee-4a87-4e9d-bfa0-f8518207ca05"
      },
      "execution_count": 21,
      "outputs": [
        {
          "output_type": "execute_result",
          "data": {
            "text/plain": [
              "Date             0\n",
              "Last Price       0\n",
              "Opening Price    0\n",
              "High Price       0\n",
              "Low Price        0\n",
              "Volume           0\n",
              "Change (%)       0\n",
              "dtype: int64"
            ],
            "text/html": [
              "<div>\n",
              "<style scoped>\n",
              "    .dataframe tbody tr th:only-of-type {\n",
              "        vertical-align: middle;\n",
              "    }\n",
              "\n",
              "    .dataframe tbody tr th {\n",
              "        vertical-align: top;\n",
              "    }\n",
              "\n",
              "    .dataframe thead th {\n",
              "        text-align: right;\n",
              "    }\n",
              "</style>\n",
              "<table border=\"1\" class=\"dataframe\">\n",
              "  <thead>\n",
              "    <tr style=\"text-align: right;\">\n",
              "      <th></th>\n",
              "      <th>0</th>\n",
              "    </tr>\n",
              "  </thead>\n",
              "  <tbody>\n",
              "    <tr>\n",
              "      <th>Date</th>\n",
              "      <td>0</td>\n",
              "    </tr>\n",
              "    <tr>\n",
              "      <th>Last Price</th>\n",
              "      <td>0</td>\n",
              "    </tr>\n",
              "    <tr>\n",
              "      <th>Opening Price</th>\n",
              "      <td>0</td>\n",
              "    </tr>\n",
              "    <tr>\n",
              "      <th>High Price</th>\n",
              "      <td>0</td>\n",
              "    </tr>\n",
              "    <tr>\n",
              "      <th>Low Price</th>\n",
              "      <td>0</td>\n",
              "    </tr>\n",
              "    <tr>\n",
              "      <th>Volume</th>\n",
              "      <td>0</td>\n",
              "    </tr>\n",
              "    <tr>\n",
              "      <th>Change (%)</th>\n",
              "      <td>0</td>\n",
              "    </tr>\n",
              "  </tbody>\n",
              "</table>\n",
              "</div><br><label><b>dtype:</b> int64</label>"
            ]
          },
          "metadata": {},
          "execution_count": 21
        }
      ]
    },
    {
      "cell_type": "code",
      "source": [
        "data.info()"
      ],
      "metadata": {
        "colab": {
          "base_uri": "https://localhost:8080/"
        },
        "id": "arZLttGjizeW",
        "outputId": "37ea7567-0605-4b32-d47d-84371a64b93f"
      },
      "execution_count": 22,
      "outputs": [
        {
          "output_type": "stream",
          "name": "stdout",
          "text": [
            "<class 'pandas.core.frame.DataFrame'>\n",
            "RangeIndex: 1081 entries, 0 to 1080\n",
            "Data columns (total 7 columns):\n",
            " #   Column         Non-Null Count  Dtype  \n",
            "---  ------         --------------  -----  \n",
            " 0   Date           1081 non-null   object \n",
            " 1   Last Price     1081 non-null   float64\n",
            " 2   Opening Price  1081 non-null   float64\n",
            " 3   High Price     1081 non-null   float64\n",
            " 4   Low Price      1081 non-null   float64\n",
            " 5   Volume         1081 non-null   float64\n",
            " 6   Change (%)     1081 non-null   float64\n",
            "dtypes: float64(6), object(1)\n",
            "memory usage: 59.2+ KB\n"
          ]
        }
      ]
    },
    {
      "cell_type": "code",
      "source": [
        "#Convert Date type column to datetime\n",
        "data['Date'] = pd.to_datetime(data['Date'])"
      ],
      "metadata": {
        "id": "xpVRD6R3j6d3"
      },
      "execution_count": 23,
      "outputs": []
    },
    {
      "cell_type": "code",
      "source": [
        "# Create a figure with a defined size\n",
        "plt.figure(figsize=(16, 8))\n",
        "\n",
        "# Set the title for the plot\n",
        "plt.title(\"Closing Price History\")\n",
        "\n",
        "# Plot Date vs Low Price\n",
        "plt.plot(data['Date'], data['Low Price'], label=\"Low Price\")\n",
        "\n",
        "# Set labels for the x and y axes\n",
        "plt.xlabel(\"Date\")\n",
        "plt.ylabel(\"Low Price in IDR\")\n",
        "\n",
        "# Format the x-axis to display years\n",
        "plt.gca().xaxis.set_major_locator(mdates.YearLocator())\n",
        "plt.gca().xaxis.set_major_formatter(mdates.DateFormatter('%Y'))\n",
        "\n",
        "# Display the legend\n",
        "plt.legend()\n",
        "plt.show()"
      ],
      "metadata": {
        "colab": {
          "base_uri": "https://localhost:8080/",
          "height": 649
        },
        "id": "ng9uAbUTkfqK",
        "outputId": "9f793a01-3267-448e-c4b6-9bdb21eb8a91"
      },
      "execution_count": 24,
      "outputs": [
        {
          "output_type": "display_data",
          "data": {
            "text/plain": [
              "<Figure size 1600x800 with 1 Axes>"
            ],
            "image/png": "[encoded data removed]"
          },
          "metadata": {}
        }
      ]
    },
    {
      "cell_type": "code",
      "source": [
        "#Find max and min value in 'Close' Column\n",
        "data['Low Price'].max(), data['Low Price'].min()"
      ],
      "metadata": {
        "id": "dlnVkLCslDEN",
        "colab": {
          "base_uri": "https://localhost:8080/"
        },
        "outputId": "9fe7b813-ecdf-4c25-aa06-8031ff30737c"
      },
      "execution_count": 25,
      "outputs": [
        {
          "output_type": "execute_result",
          "data": {
            "text/plain": [
              "(21.775, 1.2)"
            ]
          },
          "metadata": {},
          "execution_count": 25
        }
      ]
    },
    {
      "cell_type": "code",
      "source": [
        "# Import necessary libraries\n",
        "import numpy as np\n",
        "import math\n",
        "from sklearn.preprocessing import MinMaxScaler\n",
        "\n",
        "# Create a DataFrame with only the Close Stock Price column (Target Variable)\n",
        "data_target = data[['Low Price']]\n",
        "\n",
        "# Convert the DataFrame to a NumPy array for training the LSTM model\n",
        "target = data_target.values\n",
        "\n",
        "# Split the dataset into training and test sets (80% training, 20% testing)\n",
        "training_data_len = math.ceil(len(target) * 0.80)\n",
        "\n",
        "# Normalize the data before model training using MinMaxScaler\n",
        "scaler = MinMaxScaler(feature_range=(0, 1))\n",
        "training_scaled_data = scaler.fit_transform(target)"
      ],
      "metadata": {
        "id": "o2czNxEE6St9"
      },
      "execution_count": 35,
      "outputs": []
    },
    {
      "cell_type": "code",
      "source": [
        "# Create the training dataset using the last 60-day closing prices\n",
        "# to predict the 61st closing price.\n",
        "\n",
        "train_data = training_scaled_data[:training_data_len, :]\n",
        "\n",
        "X_train = []  # Features: Sequences of past 60 days\n",
        "y_train = []  # Target: 61st day's closing price\n",
        "\n",
        "# Loop through the training data to create sequences\n",
        "for i in range(60, len(train_data)):\n",
        "    X_train.append(train_data[i-60:i, 0])  # Past 60 days as input\n",
        "    y_train.append(train_data[i, 0])  # 61st day as target\n",
        "\n",
        "# Convert to NumPy arrays for LSTM model training\n",
        "X_train, y_train = np.array(X_train), np.array(y_train)\n",
        "\n",
        "# Reshape X_train to fit LSTM input requirements (samples, time steps, features)\n",
        "X_train = np.reshape(X_train, (X_train.shape[0], X_train.shape[1], 1))\n",
        "\n",
        "# Display the shape of the training data\n",
        "print('Training dataset shape:', X_train.shape)"
      ],
      "metadata": {
        "colab": {
          "base_uri": "https://localhost:8080/"
        },
        "id": "SecnD9GA7A6J",
        "outputId": "661bff3a-ce2e-4b8c-cb97-4a74d01920e6"
      },
      "execution_count": 27,
      "outputs": [
        {
          "output_type": "stream",
          "name": "stdout",
          "text": [
            "Training dataset shape: (805, 60, 1)\n"
          ]
        }
      ]
    },
    {
      "cell_type": "code",
      "source": [
        "# Initialize the LSTM model\n",
        "model = Sequential()\n",
        "\n",
        "# Add LSTM layers with Dropout regularization\n",
        "for i in range(3):\n",
        "    model.add(LSTM(units=50, return_sequences=True, input_shape=(X_train.shape[1], 1) if i == 0 else None))\n",
        "    model.add(Dropout(0.2))\n",
        "\n",
        "# Final LSTM layer (without return_sequences)\n",
        "model.add(LSTM(units=50))\n",
        "model.add(Dropout(0.2))\n",
        "\n",
        "# Output layer\n",
        "model.add(Dense(units=1))\n",
        "\n",
        "# Compile the model\n",
        "model.compile(optimizer='adam', loss='mean_squared_error')\n",
        "\n",
        "# Train the model\n",
        "model.fit(X_train, y_train, epochs=10, batch_size=32)"
      ],
      "metadata": {
        "colab": {
          "base_uri": "https://localhost:8080/"
        },
        "id": "xADyAfET8JLd",
        "outputId": "90c3bbb3-47ef-4846-ef8c-d8c8d5f18e85"
      },
      "execution_count": 28,
      "outputs": [
        {
          "output_type": "stream",
          "name": "stdout",
          "text": [
            "Epoch 1/10\n",
            "\u001b[1m26/26\u001b[0m \u001b[32m━━━━━━━━━━━━━━━━━━━━\u001b[0m\u001b[37m\u001b[0m \u001b[1m10s\u001b[0m 109ms/step - loss: 0.1606\n",
            "Epoch 2/10\n",
            "\u001b[1m26/26\u001b[0m \u001b[32m━━━━━━━━━━━━━━━━━━━━\u001b[0m\u001b[37m\u001b[0m \u001b[1m6s\u001b[0m 135ms/step - loss: 0.0159\n",
            "Epoch 3/10\n",
            "\u001b[1m26/26\u001b[0m \u001b[32m━━━━━━━━━━━━━━━━━━━━\u001b[0m\u001b[37m\u001b[0m \u001b[1m3s\u001b[0m 122ms/step - loss: 0.0167\n",
            "Epoch 4/10\n",
            "\u001b[1m26/26\u001b[0m \u001b[32m━━━━━━━━━━━━━━━━━━━━\u001b[0m\u001b[37m\u001b[0m \u001b[1m5s\u001b[0m 107ms/step - loss: 0.0146\n",
            "Epoch 5/10\n",
            "\u001b[1m26/26\u001b[0m \u001b[32m━━━━━━━━━━━━━━━━━━━━\u001b[0m\u001b[37m\u001b[0m \u001b[1m6s\u001b[0m 158ms/step - loss: 0.0107\n",
            "Epoch 6/10\n",
            "\u001b[1m26/26\u001b[0m \u001b[32m━━━━━━━━━━━━━━━━━━━━\u001b[0m\u001b[37m\u001b[0m \u001b[1m4s\u001b[0m 147ms/step - loss: 0.0082\n",
            "Epoch 7/10\n",
            "\u001b[1m26/26\u001b[0m \u001b[32m━━━━━━━━━━━━━━━━━━━━\u001b[0m\u001b[37m\u001b[0m \u001b[1m4s\u001b[0m 107ms/step - loss: 0.0079\n",
            "Epoch 8/10\n",
            "\u001b[1m26/26\u001b[0m \u001b[32m━━━━━━━━━━━━━━━━━━━━\u001b[0m\u001b[37m\u001b[0m \u001b[1m7s\u001b[0m 168ms/step - loss: 0.0092\n",
            "Epoch 9/10\n",
            "\u001b[1m26/26\u001b[0m \u001b[32m━━━━━━━━━━━━━━━━━━━━\u001b[0m\u001b[37m\u001b[0m \u001b[1m3s\u001b[0m 107ms/step - loss: 0.0074\n",
            "Epoch 10/10\n",
            "\u001b[1m26/26\u001b[0m \u001b[32m━━━━━━━━━━━━━━━━━━━━\u001b[0m\u001b[37m\u001b[0m \u001b[1m3s\u001b[0m 114ms/step - loss: 0.0088\n"
          ]
        },
        {
          "output_type": "execute_result",
          "data": {
            "text/plain": [
              "<keras.src.callbacks.history.History at 0x7cabca3fca90>"
            ]
          },
          "metadata": {},
          "execution_count": 28
        }
      ]
    },
    {
      "cell_type": "code",
      "source": [
        "# Prepare the test dataset, ensuring the last 60 days of training data are included\n",
        "test_data = training_scaled_data[training_data_len - 60:, :]\n",
        "\n",
        "# Create X_test and y_test datasets\n",
        "X_test = [test_data[i - 60:i, 0] for i in range(60, len(test_data))]\n",
        "y_test = target[training_data_len:, :]\n",
        "\n",
        "# Convert X_test to a NumPy array\n",
        "X_test = np.array(X_test)\n",
        "\n",
        "# Reshape X_test to match LSTM input requirements\n",
        "X_test = np.reshape(X_test, (X_test.shape[0], X_test.shape[1], 1))\n",
        "\n",
        "# Display the shape of the test dataset\n",
        "print('Test dataset shape:', X_test.shape)"
      ],
      "metadata": {
        "colab": {
          "base_uri": "https://localhost:8080/"
        },
        "id": "p5QjOktE8egO",
        "outputId": "1155a36f-36dd-489f-e1c2-4d1e39449160"
      },
      "execution_count": 29,
      "outputs": [
        {
          "output_type": "stream",
          "name": "stdout",
          "text": [
            "Test dataset shape: (216, 60, 1)\n"
          ]
        }
      ]
    },
    {
      "cell_type": "code",
      "source": [
        "# Make predictions using the trained LSTM model\n",
        "y_pred = model.predict(X_test)\n",
        "\n",
        "# Inverse transform to get actual stock prices\n",
        "predicted_stock_price = scaler.inverse_transform(y_pred)"
      ],
      "metadata": {
        "colab": {
          "base_uri": "https://localhost:8080/"
        },
        "id": "aH0eQDse8uV9",
        "outputId": "452e25a1-1bec-4c20-cc0d-b13c28aa2f5e"
      },
      "execution_count": 30,
      "outputs": [
        {
          "output_type": "stream",
          "name": "stdout",
          "text": [
            "\u001b[1m7/7\u001b[0m \u001b[32m━━━━━━━━━━━━━━━━━━━━\u001b[0m\u001b[37m\u001b[0m \u001b[1m2s\u001b[0m 223ms/step\n"
          ]
        }
      ]
    },
    {
      "cell_type": "code",
      "source": [
        "# Create training and validation sets for visualization\n",
        "train = data_target.iloc[:training_data_len]\n",
        "valid = data_target.iloc[training_data_len:].copy()\n",
        "valid['Predictions'] = predicted_stock_price\n",
        "\n",
        "# Extract corresponding dates\n",
        "train_dates = data['Date'].iloc[:training_data_len]\n",
        "valid_dates = data['Date'].iloc[training_data_len:]\n",
        "\n",
        "# Plot the results\n",
        "plt.figure(figsize=(12, 6))\n",
        "plt.title('Predicted vs Actual Closing Stock Price', fontsize=14)\n",
        "plt.xlabel('Date', fontsize=12)\n",
        "plt.ylabel('Closing Stock Price (IDR)', fontsize=12)\n",
        "\n",
        "# Plot actual and predicted prices\n",
        "plt.plot(train_dates, train['Low Price'], label='Train')\n",
        "plt.plot(valid_dates, valid['Low Price'], label='Actual')\n",
        "plt.plot(valid_dates, valid['Predictions'], label='Predictions', linestyle='dashed')\n",
        "\n",
        "# Format the x-axis for better readability\n",
        "plt.xticks(rotation=45)  # Rotate date labels\n",
        "plt.gca().xaxis.set_major_locator(mdates.AutoDateLocator())  # Auto adjust date ticks\n",
        "plt.gca().xaxis.set_major_formatter(mdates.DateFormatter('%b %Y'))  # Format as 'Month Year'\n",
        "\n",
        "plt.legend(loc='upper left')\n",
        "plt.grid(True, linestyle='--', alpha=0.5)  # Add a subtle grid for better readability\n",
        "\n",
        "# Save the plot\n",
        "plt.savefig('predicted_stock_price.png', dpi=300, bbox_inches='tight')\n",
        "\n",
        "# Show the plot\n",
        "plt.show()"
      ],
      "metadata": {
        "colab": {
          "base_uri": "https://localhost:8080/",
          "height": 608
        },
        "id": "LpqGij1s8wh7",
        "outputId": "2445072c-f46e-47f0-a1f5-df3bce1400a5"
      },
      "execution_count": 31,
      "outputs": [
        {
          "output_type": "display_data",
          "data": {
            "text/plain": [
              "<Figure size 1200x600 with 1 Axes>"
            ],
            "image/png": "[encoded data removed]"
          },
          "metadata": {}
        }
      ]
    },
    {
      "cell_type": "code",
      "source": [
        "def compute_mape(actual, predicted):\n",
        "    return np.mean(np.abs((actual - predicted) / actual)) * 100\n",
        "\n",
        "y_test = np.squeeze(y_test)\n",
        "\n",
        "# Compute MAPE\n",
        "mape = compute_mape(y_test, predicted_stock_price)\n",
        "print(\"Mean Absolute Percentage Error (MAPE):\", mape)"
      ],
      "metadata": {
        "colab": {
          "base_uri": "https://localhost:8080/"
        },
        "id": "VKqgZxCh81eS",
        "outputId": "bbfce88c-424c-4195-f07b-711588d929f0"
      },
      "execution_count": 32,
      "outputs": [
        {
          "output_type": "stream",
          "name": "stdout",
          "text": [
            "Mean Absolute Percentage Error (MAPE): 8.66922399424155\n"
          ]
        }
      ]
    },
    {
      "cell_type": "code",
      "source": [
        "def compute_mape(actual, predicted):\n",
        "    \"\"\"Compute Mean Absolute Percentage Error (MAPE).\"\"\"\n",
        "    return np.mean(np.abs((actual - predicted) / actual)) * 100\n",
        "\n",
        "# Ensure y_test is a 1D array\n",
        "y_test = np.squeeze(y_test)\n",
        "\n",
        "# Compute error metrics\n",
        "mape = compute_mape(y_test, predicted_stock_price)\n",
        "mse = mean_squared_error(y_test, predicted_stock_price)\n",
        "mae = mean_absolute_error(y_test, predicted_stock_price)\n",
        "\n",
        "# Display results\n",
        "print(f\"Mean Absolute Percentage Error (MAPE): {mape:.2f}%\")\n",
        "print(f\"Mean Squared Error (MSE): {mse:.4f}\")\n",
        "print(f\"Mean Absolute Error (MAE): {mae:.4f}\")"
      ],
      "metadata": {
        "colab": {
          "base_uri": "https://localhost:8080/"
        },
        "id": "molkh9Zf-gNT",
        "outputId": "b4c9f336-5a82-4116-b01f-c2d365dec4e8"
      },
      "execution_count": 33,
      "outputs": [
        {
          "output_type": "stream",
          "name": "stdout",
          "text": [
            "Mean Absolute Percentage Error (MAPE): 8.67%\n",
            "Mean Squared Error (MSE): 1.0395\n",
            "Mean Absolute Error (MAE): 0.8608\n"
          ]
        }
      ]
    },
    {
      "cell_type": "code",
      "source": [
        "# Assuming you want to predict for the next 7 days (1 week)\n",
        "next_week_data = training_scaled_data[-60:]  # Last 60 days as input for next week\n",
        "next_week_data = next_week_data.reshape(1, 60, 1)  # Reshape for LSTM\n",
        "\n",
        "next_week_predictions = model.predict(next_week_data)  # Get predictions\n",
        "\n",
        "# Use the same scaler object (named 'scaler') to inverse transform:\n",
        "predicted_prices = scaler.inverse_transform(next_week_predictions)\n",
        "\n",
        "# Display the first few predicted values\n",
        "print(\"Denormalized Predicted Prices:\\n\", predicted_prices)"
      ],
      "metadata": {
        "id": "9s7Ee0mR-wMg",
        "colab": {
          "base_uri": "https://localhost:8080/"
        },
        "outputId": "0c15e1cb-461c-492f-d6fa-40fa04410ec2"
      },
      "execution_count": 36,
      "outputs": [
        {
          "output_type": "stream",
          "name": "stdout",
          "text": [
            "\u001b[1m1/1\u001b[0m \u001b[32m━━━━━━━━━━━━━━━━━━━━\u001b[0m\u001b[37m\u001b[0m \u001b[1m0s\u001b[0m 92ms/step\n",
            "Denormalized Predicted Prices:\n",
            " [[20.807695]]\n"
          ]
        }
      ]
    },
    {
      "cell_type": "code",
      "source": [
        "# Create a DataFrame with Dates, Actual Prices (Validation), and Predictions\n",
        "results_df = pd.DataFrame({\n",
        "    'Date': data['Date'][training_data_len:],  # Extract dates from original dataset\n",
        "    'Actual Price': data_target[training_data_len:].values.flatten(),  # Actual validation values\n",
        "    'Predicted Price': predicted_stock_price.flatten()  # Model's predicted values\n",
        "})\n",
        "\n",
        "# Display the first few rows\n",
        "print(results_df.head())\n",
        "\n",
        "# Optionally, save the results as a CSV file\n",
        "results_df.to_csv(\"stock_predictions.csv\", index=False)"
      ],
      "metadata": {
        "colab": {
          "base_uri": "https://localhost:8080/"
        },
        "id": "6hWp6CatYEHX",
        "outputId": "9b9b00e3-13c4-4119-abf3-d656120a2c31"
      },
      "execution_count": 37,
      "outputs": [
        {
          "output_type": "stream",
          "name": "stdout",
          "text": [
            "          Date  Actual Price  Predicted Price\n",
            "865 2024-01-31        19.525        19.783844\n",
            "866 2024-02-01        19.650        19.747906\n",
            "867 2024-02-02        19.550        19.736639\n",
            "868 2024-02-05        19.575        19.748457\n",
            "869 2024-02-06        19.550        19.779926\n"
          ]
        }
      ]
    },
    {
      "cell_type": "code",
      "source": [
        "# Define the number of days to predict\n",
        "num_days_to_predict = 30\n",
        "\n",
        "# Initialize an array to store predictions\n",
        "predicted_prices = []\n",
        "\n",
        "# Get the last 60 days of data as the initial input\n",
        "current_data = training_scaled_data[-60:]\n",
        "\n",
        "# Loop to perform iterative predictions\n",
        "for _ in range(num_days_to_predict):\n",
        "    # Reshape the input data for LSTM\n",
        "    current_data = current_data.reshape(1, 60, 1)\n",
        "\n",
        "    # Make a prediction for the next day\n",
        "    next_day_prediction = model.predict(current_data)\n",
        "\n",
        "    # Store the prediction\n",
        "    predicted_prices.append(next_day_prediction[0, 0])\n",
        "\n",
        "    # Update the input data with the latest prediction\n",
        "    # This creates a rolling window for the next prediction\n",
        "    current_data = np.append(current_data[:, 1:, :], next_day_prediction.reshape(1, 1, 1), axis=1)\n",
        "\n",
        "# Inverse transform the predictions back to the original scale\n",
        "predicted_prices = scaler.inverse_transform(np.array(predicted_prices).reshape(-1, 1))\n",
        "\n",
        "# Display the prediction results\n",
        "print(\"Stock Price Predictions for the Next 30 Days:\")\n",
        "for i, price in enumerate(predicted_prices.flatten(), start=1):\n",
        "    print(f\"Day {i}: {price:.2f} IDR\")"
      ],
      "metadata": {
        "colab": {
          "base_uri": "https://localhost:8080/"
        },
        "id": "ZFoEO2FM-4Bv",
        "outputId": "61752c33-fa20-40d8-fd8a-20c596283c33"
      },
      "execution_count": 39,
      "outputs": [
        {
          "output_type": "stream",
          "name": "stdout",
          "text": [
            "\u001b[1m1/1\u001b[0m \u001b[32m━━━━━━━━━━━━━━━━━━━━\u001b[0m\u001b[37m\u001b[0m \u001b[1m0s\u001b[0m 78ms/step\n",
            "\u001b[1m1/1\u001b[0m \u001b[32m━━━━━━━━━━━━━━━━━━━━\u001b[0m\u001b[37m\u001b[0m \u001b[1m0s\u001b[0m 144ms/step\n",
            "\u001b[1m1/1\u001b[0m \u001b[32m━━━━━━━━━━━━━━━━━━━━\u001b[0m\u001b[37m\u001b[0m \u001b[1m0s\u001b[0m 76ms/step\n",
            "\u001b[1m1/1\u001b[0m \u001b[32m━━━━━━━━━━━━━━━━━━━━\u001b[0m\u001b[37m\u001b[0m \u001b[1m0s\u001b[0m 83ms/step\n",
            "\u001b[1m1/1\u001b[0m \u001b[32m━━━━━━━━━━━━━━━━━━━━\u001b[0m\u001b[37m\u001b[0m \u001b[1m0s\u001b[0m 86ms/step\n",
            "\u001b[1m1/1\u001b[0m \u001b[32m━━━━━━━━━━━━━━━━━━━━\u001b[0m\u001b[37m\u001b[0m \u001b[1m0s\u001b[0m 95ms/step\n",
            "\u001b[1m1/1\u001b[0m \u001b[32m━━━━━━━━━━━━━━━━━━━━\u001b[0m\u001b[37m\u001b[0m \u001b[1m0s\u001b[0m 47ms/step\n",
            "\u001b[1m1/1\u001b[0m \u001b[32m━━━━━━━━━━━━━━━━━━━━\u001b[0m\u001b[37m\u001b[0m \u001b[1m0s\u001b[0m 47ms/step\n",
            "\u001b[1m1/1\u001b[0m \u001b[32m━━━━━━━━━━━━━━━━━━━━\u001b[0m\u001b[37m\u001b[0m \u001b[1m0s\u001b[0m 46ms/step\n",
            "\u001b[1m1/1\u001b[0m \u001b[32m━━━━━━━━━━━━━━━━━━━━\u001b[0m\u001b[37m\u001b[0m \u001b[1m0s\u001b[0m 46ms/step\n",
            "\u001b[1m1/1\u001b[0m \u001b[32m━━━━━━━━━━━━━━━━━━━━\u001b[0m\u001b[37m\u001b[0m \u001b[1m0s\u001b[0m 45ms/step\n",
            "\u001b[1m1/1\u001b[0m \u001b[32m━━━━━━━━━━━━━━━━━━━━\u001b[0m\u001b[37m\u001b[0m \u001b[1m0s\u001b[0m 46ms/step\n",
            "\u001b[1m1/1\u001b[0m \u001b[32m━━━━━━━━━━━━━━━━━━━━\u001b[0m\u001b[37m\u001b[0m \u001b[1m0s\u001b[0m 49ms/step\n",
            "\u001b[1m1/1\u001b[0m \u001b[32m━━━━━━━━━━━━━━━━━━━━\u001b[0m\u001b[37m\u001b[0m \u001b[1m0s\u001b[0m 59ms/step\n",
            "\u001b[1m1/1\u001b[0m \u001b[32m━━━━━━━━━━━━━━━━━━━━\u001b[0m\u001b[37m\u001b[0m \u001b[1m0s\u001b[0m 46ms/step\n",
            "\u001b[1m1/1\u001b[0m \u001b[32m━━━━━━━━━━━━━━━━━━━━\u001b[0m\u001b[37m\u001b[0m \u001b[1m0s\u001b[0m 45ms/step\n",
            "\u001b[1m1/1\u001b[0m \u001b[32m━━━━━━━━━━━━━━━━━━━━\u001b[0m\u001b[37m\u001b[0m \u001b[1m0s\u001b[0m 51ms/step\n",
            "\u001b[1m1/1\u001b[0m \u001b[32m━━━━━━━━━━━━━━━━━━━━\u001b[0m\u001b[37m\u001b[0m \u001b[1m0s\u001b[0m 50ms/step\n",
            "\u001b[1m1/1\u001b[0m \u001b[32m━━━━━━━━━━━━━━━━━━━━\u001b[0m\u001b[37m\u001b[0m \u001b[1m0s\u001b[0m 58ms/step\n",
            "\u001b[1m1/1\u001b[0m \u001b[32m━━━━━━━━━━━━━━━━━━━━\u001b[0m\u001b[37m\u001b[0m \u001b[1m0s\u001b[0m 47ms/step\n",
            "\u001b[1m1/1\u001b[0m \u001b[32m━━━━━━━━━━━━━━━━━━━━\u001b[0m\u001b[37m\u001b[0m \u001b[1m0s\u001b[0m 47ms/step\n",
            "\u001b[1m1/1\u001b[0m \u001b[32m━━━━━━━━━━━━━━━━━━━━\u001b[0m\u001b[37m\u001b[0m \u001b[1m0s\u001b[0m 51ms/step\n",
            "\u001b[1m1/1\u001b[0m \u001b[32m━━━━━━━━━━━━━━━━━━━━\u001b[0m\u001b[37m\u001b[0m \u001b[1m0s\u001b[0m 48ms/step\n",
            "\u001b[1m1/1\u001b[0m \u001b[32m━━━━━━━━━━━━━━━━━━━━\u001b[0m\u001b[37m\u001b[0m \u001b[1m0s\u001b[0m 45ms/step\n",
            "\u001b[1m1/1\u001b[0m \u001b[32m━━━━━━━━━━━━━━━━━━━━\u001b[0m\u001b[37m\u001b[0m \u001b[1m0s\u001b[0m 46ms/step\n",
            "\u001b[1m1/1\u001b[0m \u001b[32m━━━━━━━━━━━━━━━━━━━━\u001b[0m\u001b[37m\u001b[0m \u001b[1m0s\u001b[0m 46ms/step\n",
            "\u001b[1m1/1\u001b[0m \u001b[32m━━━━━━━━━━━━━━━━━━━━\u001b[0m\u001b[37m\u001b[0m \u001b[1m0s\u001b[0m 60ms/step\n",
            "\u001b[1m1/1\u001b[0m \u001b[32m━━━━━━━━━━━━━━━━━━━━\u001b[0m\u001b[37m\u001b[0m \u001b[1m0s\u001b[0m 46ms/step\n",
            "\u001b[1m1/1\u001b[0m \u001b[32m━━━━━━━━━━━━━━━━━━━━\u001b[0m\u001b[37m\u001b[0m \u001b[1m0s\u001b[0m 53ms/step\n",
            "\u001b[1m1/1\u001b[0m \u001b[32m━━━━━━━━━━━━━━━━━━━━\u001b[0m\u001b[37m\u001b[0m \u001b[1m0s\u001b[0m 49ms/step\n",
            "Stock Price Predictions for the Next 30 Days:\n",
            "Day 1: 20.81 IDR\n",
            "Day 2: 20.79 IDR\n",
            "Day 3: 20.78 IDR\n",
            "Day 4: 20.78 IDR\n",
            "Day 5: 20.80 IDR\n",
            "Day 6: 20.84 IDR\n",
            "Day 7: 20.89 IDR\n",
            "Day 8: 20.96 IDR\n",
            "Day 9: 21.03 IDR\n",
            "Day 10: 21.11 IDR\n",
            "Day 11: 21.19 IDR\n",
            "Day 12: 21.27 IDR\n",
            "Day 13: 21.35 IDR\n",
            "Day 14: 21.43 IDR\n",
            "Day 15: 21.50 IDR\n",
            "Day 16: 21.57 IDR\n",
            "Day 17: 21.65 IDR\n",
            "Day 18: 21.71 IDR\n",
            "Day 19: 21.78 IDR\n",
            "Day 20: 21.85 IDR\n",
            "Day 21: 21.92 IDR\n",
            "Day 22: 21.98 IDR\n",
            "Day 23: 22.04 IDR\n",
            "Day 24: 22.11 IDR\n",
            "Day 25: 22.17 IDR\n",
            "Day 26: 22.23 IDR\n",
            "Day 27: 22.29 IDR\n",
            "Day 28: 22.34 IDR\n",
            "Day 29: 22.40 IDR\n",
            "Day 30: 22.45 IDR\n"
          ]
        }
      ]
    }
  ]
}